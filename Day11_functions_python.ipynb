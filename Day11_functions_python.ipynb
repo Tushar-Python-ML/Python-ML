{
  "nbformat": 4,
  "nbformat_minor": 0,
  "metadata": {
    "colab": {
      "provenance": [],
      "authorship_tag": "ABX9TyNTDLtT5lxxE6nTR2zyqb5B",
      "include_colab_link": true
    },
    "kernelspec": {
      "name": "python3",
      "display_name": "Python 3"
    },
    "language_info": {
      "name": "python"
    }
  },
  "cells": [
    {
      "cell_type": "markdown",
      "metadata": {
        "id": "view-in-github",
        "colab_type": "text"
      },
      "source": [
        "<a href=\"https://colab.research.google.com/github/Tushar-Python-ML/Python-ML/blob/main/Day11_functions_python.ipynb\" target=\"_parent\"><img src=\"https://colab.research.google.com/assets/colab-badge.svg\" alt=\"Open In Colab\"/></a>"
      ]
    },
    {
      "cell_type": "code",
      "execution_count": null,
      "metadata": {
        "id": "w-RflsL3Qx0w"
      },
      "outputs": [],
      "source": [
        "# Day 11"
      ]
    },
    {
      "cell_type": "code",
      "source": [
        "# simple function\n",
        "def fun():\n",
        "  print(\"Hello World\")\n",
        "  print(\"Welcome\")\n",
        "\n",
        "print(\"before function call\")\n",
        "fun()\n",
        "print(\"after function call\")"
      ],
      "metadata": {
        "colab": {
          "base_uri": "https://localhost:8080/"
        },
        "id": "Z4lDXmA2YM13",
        "outputId": "f6f2407b-7f36-460f-ad14-79bc22c90e79"
      },
      "execution_count": 1,
      "outputs": [
        {
          "output_type": "stream",
          "name": "stdout",
          "text": [
            "before function call\n",
            "Hello World\n",
            "Welcome\n",
            "after function call\n"
          ]
        }
      ]
    }
  ]
}
{
  "nbformat": 4,
  "nbformat_minor": 0,
  "metadata": {
    "colab": {
      "provenance": []
    },
    "kernelspec": {
      "name": "python3",
      "display_name": "Python 3"
    },
    "language_info": {
      "name": "python"
    }
  },
  "cells": [
    {
      "cell_type": "code",
      "execution_count": null,
      "metadata": {
        "colab": {
          "base_uri": "https://localhost:8080/"
        },
        "id": "HpmbKqI7jltH",
        "outputId": "f368c4ee-43c7-4d13-d75c-8d8a7fab21c6"
      },
      "outputs": [
        {
          "output_type": "stream",
          "name": "stdout",
          "text": [
            "tushar-bansal\n"
          ]
        }
      ],
      "source": [
        "print(\"tushar-bansal\")"
      ]
    },
    {
      "cell_type": "code",
      "source": [
        "ashdkjas"
      ],
      "metadata": {
        "id": "34ZbDQBAxLWX"
      },
      "execution_count": null,
      "outputs": []
    },
    {
      "cell_type": "code",
      "source": [
        "#Day 3\n",
        "#Creating a simple list\n",
        "\n",
        "l = [10, 20.3, \"NTT\", 3+4j]\n",
        "print(l)\n",
        "print(type(l))"
      ],
      "metadata": {
        "colab": {
          "base_uri": "https://localhost:8080/"
        },
        "id": "YgcZJNfhERsl",
        "outputId": "43774016-8389-4983-feb3-b01df643627a"
      },
      "execution_count": 1,
      "outputs": [
        {
          "output_type": "stream",
          "name": "stdout",
          "text": [
            "[10, 20.3, 'NTT', (3+4j)]\n",
            "<class 'list'>\n"
          ]
        }
      ]
    },
    {
      "cell_type": "code",
      "source": [
        "#type fn returns the datatype class\n",
        "a = 3+4j\n",
        "print(type(a))"
      ],
      "metadata": {
        "colab": {
          "base_uri": "https://localhost:8080/"
        },
        "id": "d8xDxiYsG0ZO",
        "outputId": "1fea6d54-4108-43aa-84e7-85847716069b"
      },
      "execution_count": 2,
      "outputs": [
        {
          "output_type": "stream",
          "name": "stdout",
          "text": [
            "<class 'complex'>\n"
          ]
        }
      ]
    },
    {
      "cell_type": "code",
      "source": [
        "# isinstance\n",
        "a=10\n",
        "print(isinstance(a,int))\n",
        "\n",
        "a=10.0\n",
        "print(isinstance(a,int))"
      ],
      "metadata": {
        "colab": {
          "base_uri": "https://localhost:8080/"
        },
        "id": "BOVQVw41G-WM",
        "outputId": "4746f922-d829-483e-a0a7-18957a63aab1"
      },
      "execution_count": 6,
      "outputs": [
        {
          "output_type": "stream",
          "name": "stdout",
          "text": [
            "True\n",
            "False\n"
          ]
        }
      ]
    },
    {
      "cell_type": "code",
      "source": [
        "# variable annotations\n",
        "name: str = 1\n",
        "print(name)\n",
        "print(type(name))\n",
        "print(__annotations__['name'])"
      ],
      "metadata": {
        "colab": {
          "base_uri": "https://localhost:8080/"
        },
        "id": "MmW1kQo-IOvF",
        "outputId": "dd8f0232-6258-47d3-faff-0142fda49eff"
      },
      "execution_count": 10,
      "outputs": [
        {
          "output_type": "stream",
          "name": "stdout",
          "text": [
            "1\n",
            "<class 'int'>\n",
            "<class 'str'>\n"
          ]
        }
      ]
    },
    {
      "cell_type": "code",
      "source": [
        "# variable annotations\n",
        "aaa: int = 10\n",
        "print(aaa)\n",
        "print(type(aaa))\n",
        "print(__annotations__['name'])"
      ],
      "metadata": {
        "id": "VKKqoLfGKPnC"
      },
      "execution_count": null,
      "outputs": []
    }
  ]
}